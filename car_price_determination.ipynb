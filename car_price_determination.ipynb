{
 "cells": [
  {
   "cell_type": "markdown",
   "metadata": {},
   "source": [
    "# Определение стоимости автомобилей <a id=\"intro\"></a>"
   ]
  },
  {
   "cell_type": "markdown",
   "metadata": {
    "toc": true
   },
   "source": [
    "<h1>Содержание<span class=\"tocSkip\"></span></h1>\n",
    "<div class=\"toc\"><ul class=\"toc-item\"><li><span><a href=\"#Описание\" data-toc-modified-id=\"Описание-1\"><span class=\"toc-item-num\">1&nbsp;&nbsp;</span>Описание</a></span></li><li><span><a href=\"#Импорт-библиотек\" data-toc-modified-id=\"Импорт-библиотек-2\"><span class=\"toc-item-num\">2&nbsp;&nbsp;</span>Импорт библиотек</a></span></li><li><span><a href=\"#Изучение-данных\" data-toc-modified-id=\"Изучение-данных-3\"><span class=\"toc-item-num\">3&nbsp;&nbsp;</span>Изучение данных</a></span></li><li><span><a href=\"#Бэггинг.-RandomForestRegressor\" data-toc-modified-id=\"Бэггинг.-RandomForestRegressor-4\"><span class=\"toc-item-num\">4&nbsp;&nbsp;</span>Бэггинг. RandomForestRegressor</a></span></li><li><span><a href=\"#Градиентный-бустинг\" data-toc-modified-id=\"Градиентный-бустинг-5\"><span class=\"toc-item-num\">5&nbsp;&nbsp;</span>Градиентный бустинг</a></span><ul class=\"toc-item\"><li><span><a href=\"#GradientBoostingHand---ручная-модель\" data-toc-modified-id=\"GradientBoostingHand---ручная-модель-5.1\"><span class=\"toc-item-num\">5.1&nbsp;&nbsp;</span>GradientBoostingHand - ручная модель</a></span></li><li><span><a href=\"#CatBoostRegressor\" data-toc-modified-id=\"CatBoostRegressor-5.2\"><span class=\"toc-item-num\">5.2&nbsp;&nbsp;</span>CatBoostRegressor</a></span></li><li><span><a href=\"#LGBMRegressor\" data-toc-modified-id=\"LGBMRegressor-5.3\"><span class=\"toc-item-num\">5.3&nbsp;&nbsp;</span>LGBMRegressor</a></span></li></ul></li><li><span><a href=\"#Анализ-моделей\" data-toc-modified-id=\"Анализ-моделей-6\"><span class=\"toc-item-num\">6&nbsp;&nbsp;</span>Анализ моделей</a></span></li><li><span><a href=\"#Выводы\" data-toc-modified-id=\"Выводы-7\"><span class=\"toc-item-num\">7&nbsp;&nbsp;</span>Выводы</a></span></li></ul></div>"
   ]
  },
  {
   "cell_type": "markdown",
   "metadata": {},
   "source": [
    "## Описание"
   ]
  },
  {
   "cell_type": "markdown",
   "metadata": {},
   "source": [
    "В нашем распоряжении исторические данные: технические характеристики, комплектации и цены автомобилей. Нам нужно построить модель для определения стоимости. Модель будет встроена в мобильное приложения сервиса по продаже автомобилей с пробегом для привлечения новых клиентов. В нём можно быстро узнать рыночную стоимость своего автомобиля.\n",
    "\n",
    "Заказчику важны:\n",
    "\n",
    "- качество предсказания;\n",
    "- скорость предсказания;\n",
    "- время обучения.\n",
    "\n",
    "Значение метрики RMSE должно быть меньше 2500."
   ]
  },
  {
   "cell_type": "markdown",
   "metadata": {},
   "source": [
    "## Импорт библиотек"
   ]
  },
  {
   "cell_type": "code",
   "execution_count": 1,
   "metadata": {},
   "outputs": [],
   "source": [
    "import numpy as np\n",
    "import pandas as pd\n",
    "import seaborn as sns\n",
    "import matplotlib.pyplot as plt\n",
    "\n",
    "from sklearn.model_selection import train_test_split, GridSearchCV\n",
    "from sklearn.preprocessing import OrdinalEncoder\n",
    "from sklearn.preprocessing import StandardScaler\n",
    "from sklearn.metrics import r2_score\n",
    "from sklearn.metrics import mean_squared_error\n",
    "from sklearn.tree import DecisionTreeRegressor\n",
    "from sklearn.ensemble import RandomForestRegressor\n",
    "\n",
    "from catboost import CatBoostRegressor, Pool\n",
    "from lightgbm import LGBMRegressor, Dataset\n",
    "\n",
    "import warnings\n",
    "warnings.filterwarnings(\"ignore\")"
   ]
  },
  {
   "cell_type": "markdown",
   "metadata": {
    "tags": []
   },
   "source": [
    "[В начало](#intro)"
   ]
  },
  {
   "cell_type": "markdown",
   "metadata": {},
   "source": [
    "## Изучение данных"
   ]
  },
  {
   "cell_type": "code",
   "execution_count": 2,
   "metadata": {
    "tags": []
   },
   "outputs": [
    {
     "data": {
      "text/html": [
       "<div>\n",
       "<style scoped>\n",
       "    .dataframe tbody tr th:only-of-type {\n",
       "        vertical-align: middle;\n",
       "    }\n",
       "\n",
       "    .dataframe tbody tr th {\n",
       "        vertical-align: top;\n",
       "    }\n",
       "\n",
       "    .dataframe thead th {\n",
       "        text-align: right;\n",
       "    }\n",
       "</style>\n",
       "<table border=\"1\" class=\"dataframe\">\n",
       "  <thead>\n",
       "    <tr style=\"text-align: right;\">\n",
       "      <th></th>\n",
       "      <th>DateCrawled</th>\n",
       "      <th>Price</th>\n",
       "      <th>VehicleType</th>\n",
       "      <th>RegistrationYear</th>\n",
       "      <th>Gearbox</th>\n",
       "      <th>Power</th>\n",
       "      <th>Model</th>\n",
       "      <th>Kilometer</th>\n",
       "      <th>RegistrationMonth</th>\n",
       "      <th>FuelType</th>\n",
       "      <th>Brand</th>\n",
       "      <th>Repaired</th>\n",
       "      <th>DateCreated</th>\n",
       "      <th>NumberOfPictures</th>\n",
       "      <th>PostalCode</th>\n",
       "      <th>LastSeen</th>\n",
       "    </tr>\n",
       "  </thead>\n",
       "  <tbody>\n",
       "    <tr>\n",
       "      <th>0</th>\n",
       "      <td>2016-03-24 11:52:17</td>\n",
       "      <td>480</td>\n",
       "      <td>NaN</td>\n",
       "      <td>1993</td>\n",
       "      <td>manual</td>\n",
       "      <td>0</td>\n",
       "      <td>golf</td>\n",
       "      <td>150000</td>\n",
       "      <td>0</td>\n",
       "      <td>petrol</td>\n",
       "      <td>volkswagen</td>\n",
       "      <td>NaN</td>\n",
       "      <td>2016-03-24 00:00:00</td>\n",
       "      <td>0</td>\n",
       "      <td>70435</td>\n",
       "      <td>2016-04-07 03:16:57</td>\n",
       "    </tr>\n",
       "    <tr>\n",
       "      <th>1</th>\n",
       "      <td>2016-03-24 10:58:45</td>\n",
       "      <td>18300</td>\n",
       "      <td>coupe</td>\n",
       "      <td>2011</td>\n",
       "      <td>manual</td>\n",
       "      <td>190</td>\n",
       "      <td>NaN</td>\n",
       "      <td>125000</td>\n",
       "      <td>5</td>\n",
       "      <td>gasoline</td>\n",
       "      <td>audi</td>\n",
       "      <td>yes</td>\n",
       "      <td>2016-03-24 00:00:00</td>\n",
       "      <td>0</td>\n",
       "      <td>66954</td>\n",
       "      <td>2016-04-07 01:46:50</td>\n",
       "    </tr>\n",
       "  </tbody>\n",
       "</table>\n",
       "</div>"
      ],
      "text/plain": [
       "           DateCrawled  Price VehicleType  RegistrationYear Gearbox  Power  \\\n",
       "0  2016-03-24 11:52:17    480         NaN              1993  manual      0   \n",
       "1  2016-03-24 10:58:45  18300       coupe              2011  manual    190   \n",
       "\n",
       "  Model  Kilometer  RegistrationMonth  FuelType       Brand Repaired  \\\n",
       "0  golf     150000                  0    petrol  volkswagen      NaN   \n",
       "1   NaN     125000                  5  gasoline        audi      yes   \n",
       "\n",
       "           DateCreated  NumberOfPictures  PostalCode             LastSeen  \n",
       "0  2016-03-24 00:00:00                 0       70435  2016-04-07 03:16:57  \n",
       "1  2016-03-24 00:00:00                 0       66954  2016-04-07 01:46:50  "
      ]
     },
     "execution_count": 2,
     "metadata": {},
     "output_type": "execute_result"
    }
   ],
   "source": [
    "data = pd.read_csv(\"autos.csv\")\n",
    "data.head(2)"
   ]
  },
  {
   "cell_type": "code",
   "execution_count": 3,
   "metadata": {
    "tags": []
   },
   "outputs": [
    {
     "name": "stdout",
     "output_type": "stream",
     "text": [
      "<class 'pandas.core.frame.DataFrame'>\n",
      "RangeIndex: 354369 entries, 0 to 354368\n",
      "Data columns (total 16 columns):\n",
      " #   Column             Non-Null Count   Dtype \n",
      "---  ------             --------------   ----- \n",
      " 0   DateCrawled        354369 non-null  object\n",
      " 1   Price              354369 non-null  int64 \n",
      " 2   VehicleType        316879 non-null  object\n",
      " 3   RegistrationYear   354369 non-null  int64 \n",
      " 4   Gearbox            334536 non-null  object\n",
      " 5   Power              354369 non-null  int64 \n",
      " 6   Model              334664 non-null  object\n",
      " 7   Kilometer          354369 non-null  int64 \n",
      " 8   RegistrationMonth  354369 non-null  int64 \n",
      " 9   FuelType           321474 non-null  object\n",
      " 10  Brand              354369 non-null  object\n",
      " 11  Repaired           283215 non-null  object\n",
      " 12  DateCreated        354369 non-null  object\n",
      " 13  NumberOfPictures   354369 non-null  int64 \n",
      " 14  PostalCode         354369 non-null  int64 \n",
      " 15  LastSeen           354369 non-null  object\n",
      "dtypes: int64(7), object(9)\n",
      "memory usage: 43.3+ MB\n"
     ]
    }
   ],
   "source": [
    "data.info()"
   ]
  },
  {
   "cell_type": "code",
   "execution_count": 4,
   "metadata": {
    "tags": []
   },
   "outputs": [
    {
     "data": {
      "text/plain": [
       "DateCrawled              0\n",
       "Price                    0\n",
       "VehicleType          37490\n",
       "RegistrationYear         0\n",
       "Gearbox              19833\n",
       "Power                    0\n",
       "Model                19705\n",
       "Kilometer                0\n",
       "RegistrationMonth        0\n",
       "FuelType             32895\n",
       "Brand                    0\n",
       "Repaired             71154\n",
       "DateCreated              0\n",
       "NumberOfPictures         0\n",
       "PostalCode               0\n",
       "LastSeen                 0\n",
       "dtype: int64"
      ]
     },
     "execution_count": 4,
     "metadata": {},
     "output_type": "execute_result"
    }
   ],
   "source": [
    "data.isna().sum()"
   ]
  },
  {
   "cell_type": "markdown",
   "metadata": {},
   "source": [
    "В данных есть пропуски."
   ]
  },
  {
   "cell_type": "code",
   "execution_count": 5,
   "metadata": {
    "tags": []
   },
   "outputs": [
    {
     "data": {
      "text/html": [
       "<div>\n",
       "<style scoped>\n",
       "    .dataframe tbody tr th:only-of-type {\n",
       "        vertical-align: middle;\n",
       "    }\n",
       "\n",
       "    .dataframe tbody tr th {\n",
       "        vertical-align: top;\n",
       "    }\n",
       "\n",
       "    .dataframe thead th {\n",
       "        text-align: right;\n",
       "    }\n",
       "</style>\n",
       "<table border=\"1\" class=\"dataframe\">\n",
       "  <thead>\n",
       "    <tr style=\"text-align: right;\">\n",
       "      <th></th>\n",
       "      <th>DateCrawled</th>\n",
       "      <th>Price</th>\n",
       "      <th>VehicleType</th>\n",
       "      <th>RegistrationYear</th>\n",
       "      <th>Gearbox</th>\n",
       "      <th>Power</th>\n",
       "      <th>Model</th>\n",
       "      <th>Kilometer</th>\n",
       "      <th>RegistrationMonth</th>\n",
       "      <th>FuelType</th>\n",
       "      <th>Brand</th>\n",
       "      <th>Repaired</th>\n",
       "      <th>DateCreated</th>\n",
       "      <th>NumberOfPictures</th>\n",
       "      <th>PostalCode</th>\n",
       "      <th>LastSeen</th>\n",
       "    </tr>\n",
       "  </thead>\n",
       "  <tbody>\n",
       "    <tr>\n",
       "      <th>171088</th>\n",
       "      <td>2016-03-08 18:42:48</td>\n",
       "      <td>1799</td>\n",
       "      <td>coupe</td>\n",
       "      <td>1999</td>\n",
       "      <td>auto</td>\n",
       "      <td>193</td>\n",
       "      <td>clk</td>\n",
       "      <td>20000</td>\n",
       "      <td>7</td>\n",
       "      <td>petrol</td>\n",
       "      <td>mercedes_benz</td>\n",
       "      <td>no</td>\n",
       "      <td>2016-03-08 00:00:00</td>\n",
       "      <td>0</td>\n",
       "      <td>89518</td>\n",
       "      <td>2016-03-09 09:46:57</td>\n",
       "    </tr>\n",
       "    <tr>\n",
       "      <th>231258</th>\n",
       "      <td>2016-03-28 00:56:10</td>\n",
       "      <td>1000</td>\n",
       "      <td>small</td>\n",
       "      <td>2002</td>\n",
       "      <td>manual</td>\n",
       "      <td>83</td>\n",
       "      <td>other</td>\n",
       "      <td>150000</td>\n",
       "      <td>1</td>\n",
       "      <td>petrol</td>\n",
       "      <td>suzuki</td>\n",
       "      <td>no</td>\n",
       "      <td>2016-03-28 00:00:00</td>\n",
       "      <td>0</td>\n",
       "      <td>66589</td>\n",
       "      <td>2016-03-28 08:46:21</td>\n",
       "    </tr>\n",
       "    <tr>\n",
       "      <th>258109</th>\n",
       "      <td>2016-04-03 09:01:15</td>\n",
       "      <td>4699</td>\n",
       "      <td>coupe</td>\n",
       "      <td>2003</td>\n",
       "      <td>auto</td>\n",
       "      <td>218</td>\n",
       "      <td>clk</td>\n",
       "      <td>125000</td>\n",
       "      <td>6</td>\n",
       "      <td>petrol</td>\n",
       "      <td>mercedes_benz</td>\n",
       "      <td>yes</td>\n",
       "      <td>2016-04-03 00:00:00</td>\n",
       "      <td>0</td>\n",
       "      <td>75196</td>\n",
       "      <td>2016-04-07 09:44:54</td>\n",
       "    </tr>\n",
       "    <tr>\n",
       "      <th>325651</th>\n",
       "      <td>2016-03-18 18:46:15</td>\n",
       "      <td>1999</td>\n",
       "      <td>wagon</td>\n",
       "      <td>2001</td>\n",
       "      <td>manual</td>\n",
       "      <td>131</td>\n",
       "      <td>passat</td>\n",
       "      <td>150000</td>\n",
       "      <td>7</td>\n",
       "      <td>gasoline</td>\n",
       "      <td>volkswagen</td>\n",
       "      <td>no</td>\n",
       "      <td>2016-03-18 00:00:00</td>\n",
       "      <td>0</td>\n",
       "      <td>36391</td>\n",
       "      <td>2016-03-18 18:46:15</td>\n",
       "    </tr>\n",
       "  </tbody>\n",
       "</table>\n",
       "</div>"
      ],
      "text/plain": [
       "                DateCrawled  Price VehicleType  RegistrationYear Gearbox  \\\n",
       "171088  2016-03-08 18:42:48   1799       coupe              1999    auto   \n",
       "231258  2016-03-28 00:56:10   1000       small              2002  manual   \n",
       "258109  2016-04-03 09:01:15   4699       coupe              2003    auto   \n",
       "325651  2016-03-18 18:46:15   1999       wagon              2001  manual   \n",
       "\n",
       "        Power   Model  Kilometer  RegistrationMonth  FuelType          Brand  \\\n",
       "171088    193     clk      20000                  7    petrol  mercedes_benz   \n",
       "231258     83   other     150000                  1    petrol         suzuki   \n",
       "258109    218     clk     125000                  6    petrol  mercedes_benz   \n",
       "325651    131  passat     150000                  7  gasoline     volkswagen   \n",
       "\n",
       "       Repaired          DateCreated  NumberOfPictures  PostalCode  \\\n",
       "171088       no  2016-03-08 00:00:00                 0       89518   \n",
       "231258       no  2016-03-28 00:00:00                 0       66589   \n",
       "258109      yes  2016-04-03 00:00:00                 0       75196   \n",
       "325651       no  2016-03-18 00:00:00                 0       36391   \n",
       "\n",
       "                   LastSeen  \n",
       "171088  2016-03-09 09:46:57  \n",
       "231258  2016-03-28 08:46:21  \n",
       "258109  2016-04-07 09:44:54  \n",
       "325651  2016-03-18 18:46:15  "
      ]
     },
     "execution_count": 5,
     "metadata": {},
     "output_type": "execute_result"
    }
   ],
   "source": [
    "data[data.duplicated()]"
   ]
  },
  {
   "cell_type": "markdown",
   "metadata": {},
   "source": [
    "Имеются дубликаты."
   ]
  },
  {
   "cell_type": "code",
   "execution_count": 6,
   "metadata": {
    "tags": []
   },
   "outputs": [
    {
     "data": {
      "text/html": [
       "<div>\n",
       "<style scoped>\n",
       "    .dataframe tbody tr th:only-of-type {\n",
       "        vertical-align: middle;\n",
       "    }\n",
       "\n",
       "    .dataframe tbody tr th {\n",
       "        vertical-align: top;\n",
       "    }\n",
       "\n",
       "    .dataframe thead th {\n",
       "        text-align: right;\n",
       "    }\n",
       "</style>\n",
       "<table border=\"1\" class=\"dataframe\">\n",
       "  <thead>\n",
       "    <tr style=\"text-align: right;\">\n",
       "      <th></th>\n",
       "      <th>count</th>\n",
       "      <th>mean</th>\n",
       "      <th>std</th>\n",
       "      <th>min</th>\n",
       "      <th>25%</th>\n",
       "      <th>50%</th>\n",
       "      <th>75%</th>\n",
       "      <th>max</th>\n",
       "    </tr>\n",
       "  </thead>\n",
       "  <tbody>\n",
       "    <tr>\n",
       "      <th>Price</th>\n",
       "      <td>354369.0</td>\n",
       "      <td>4416.656776</td>\n",
       "      <td>4514.158514</td>\n",
       "      <td>0.0</td>\n",
       "      <td>1050.0</td>\n",
       "      <td>2700.0</td>\n",
       "      <td>6400.0</td>\n",
       "      <td>20000.0</td>\n",
       "    </tr>\n",
       "    <tr>\n",
       "      <th>RegistrationYear</th>\n",
       "      <td>354369.0</td>\n",
       "      <td>2004.234448</td>\n",
       "      <td>90.227958</td>\n",
       "      <td>1000.0</td>\n",
       "      <td>1999.0</td>\n",
       "      <td>2003.0</td>\n",
       "      <td>2008.0</td>\n",
       "      <td>9999.0</td>\n",
       "    </tr>\n",
       "    <tr>\n",
       "      <th>Power</th>\n",
       "      <td>354369.0</td>\n",
       "      <td>110.094337</td>\n",
       "      <td>189.850405</td>\n",
       "      <td>0.0</td>\n",
       "      <td>69.0</td>\n",
       "      <td>105.0</td>\n",
       "      <td>143.0</td>\n",
       "      <td>20000.0</td>\n",
       "    </tr>\n",
       "    <tr>\n",
       "      <th>Kilometer</th>\n",
       "      <td>354369.0</td>\n",
       "      <td>128211.172535</td>\n",
       "      <td>37905.341530</td>\n",
       "      <td>5000.0</td>\n",
       "      <td>125000.0</td>\n",
       "      <td>150000.0</td>\n",
       "      <td>150000.0</td>\n",
       "      <td>150000.0</td>\n",
       "    </tr>\n",
       "    <tr>\n",
       "      <th>RegistrationMonth</th>\n",
       "      <td>354369.0</td>\n",
       "      <td>5.714645</td>\n",
       "      <td>3.726421</td>\n",
       "      <td>0.0</td>\n",
       "      <td>3.0</td>\n",
       "      <td>6.0</td>\n",
       "      <td>9.0</td>\n",
       "      <td>12.0</td>\n",
       "    </tr>\n",
       "    <tr>\n",
       "      <th>NumberOfPictures</th>\n",
       "      <td>354369.0</td>\n",
       "      <td>0.000000</td>\n",
       "      <td>0.000000</td>\n",
       "      <td>0.0</td>\n",
       "      <td>0.0</td>\n",
       "      <td>0.0</td>\n",
       "      <td>0.0</td>\n",
       "      <td>0.0</td>\n",
       "    </tr>\n",
       "    <tr>\n",
       "      <th>PostalCode</th>\n",
       "      <td>354369.0</td>\n",
       "      <td>50508.689087</td>\n",
       "      <td>25783.096248</td>\n",
       "      <td>1067.0</td>\n",
       "      <td>30165.0</td>\n",
       "      <td>49413.0</td>\n",
       "      <td>71083.0</td>\n",
       "      <td>99998.0</td>\n",
       "    </tr>\n",
       "  </tbody>\n",
       "</table>\n",
       "</div>"
      ],
      "text/plain": [
       "                      count           mean           std     min       25%  \\\n",
       "Price              354369.0    4416.656776   4514.158514     0.0    1050.0   \n",
       "RegistrationYear   354369.0    2004.234448     90.227958  1000.0    1999.0   \n",
       "Power              354369.0     110.094337    189.850405     0.0      69.0   \n",
       "Kilometer          354369.0  128211.172535  37905.341530  5000.0  125000.0   \n",
       "RegistrationMonth  354369.0       5.714645      3.726421     0.0       3.0   \n",
       "NumberOfPictures   354369.0       0.000000      0.000000     0.0       0.0   \n",
       "PostalCode         354369.0   50508.689087  25783.096248  1067.0   30165.0   \n",
       "\n",
       "                        50%       75%       max  \n",
       "Price                2700.0    6400.0   20000.0  \n",
       "RegistrationYear     2003.0    2008.0    9999.0  \n",
       "Power                 105.0     143.0   20000.0  \n",
       "Kilometer          150000.0  150000.0  150000.0  \n",
       "RegistrationMonth       6.0       9.0      12.0  \n",
       "NumberOfPictures        0.0       0.0       0.0  \n",
       "PostalCode          49413.0   71083.0   99998.0  "
      ]
     },
     "execution_count": 6,
     "metadata": {},
     "output_type": "execute_result"
    }
   ],
   "source": [
    "data.describe().T"
   ]
  },
  {
   "cell_type": "markdown",
   "metadata": {},
   "source": [
    "Местами данные достаточно шумные, на первый взгляд также имеются аномалии."
   ]
  },
  {
   "cell_type": "markdown",
   "metadata": {},
   "source": [
    "**Выводы:**\n",
    "\n",
    "На первый взгляд данные достаточно грязные. Что требуется:\n",
    "- устранить неинформативные признаки;\n",
    "- устранить пропуски и дубликаты;\n",
    "- устранить аномалии."
   ]
  },
  {
   "cell_type": "markdown",
   "metadata": {
    "tags": []
   },
   "source": [
    "[В начало](#intro)"
   ]
  },
  {
   "cell_type": "markdown",
   "metadata": {},
   "source": [
    "# Предобработка данных"
   ]
  },
  {
   "cell_type": "markdown",
   "metadata": {},
   "source": [
    "Для устранения неинформативных столбцов посмотрим на корреляция признаков с целевым признаком. Признаки, где корреляция отсутствует подлежат устранению."
   ]
  },
  {
   "cell_type": "code",
   "execution_count": 7,
   "metadata": {
    "tags": []
   },
   "outputs": [
    {
     "data": {
      "image/png": "[encoded data removed]",
      "text/plain": [
       "<Figure size 1500x400 with 2 Axes>"
      ]
     },
     "metadata": {},
     "output_type": "display_data"
    }
   ],
   "source": [
    "corr_matrix = data.select_dtypes(include=[\"int\", \"float\"]).corr()\n",
    "\n",
    "sns.set_theme(style=\"white\")\n",
    "plt.figure(figsize = (15, 4))\n",
    "sns.heatmap(corr_matrix,\n",
    "            vmin=-1, \n",
    "            vmax=1,\n",
    "            annot=True,\n",
    "            linewidths=.5\n",
    "           ).xaxis.tick_top()\n",
    "plt.title(\"Матрица корреляции\")\n",
    "plt.show()\n",
    "\n",
    "del corr_matrix"
   ]
  },
  {
   "cell_type": "markdown",
   "metadata": {},
   "source": [
    "Устраним некоторые признаки с датами. Также следующие признаки: почтовый индекс, месяц регистрации авто, количество фотографий (данные полностью отсутствуют)."
   ]
  },
  {
   "cell_type": "code",
   "execution_count": 8,
   "metadata": {
    "tags": []
   },
   "outputs": [],
   "source": [
    "data_filtered = data.drop([\"DateCrawled\", \"RegistrationMonth\", \"DateCreated\", \"NumberOfPictures\", \"PostalCode\", \"LastSeen\"], axis=1)\n",
    "data_filtered = data_filtered.drop_duplicates().reset_index(drop=True)"
   ]
  },
  {
   "cell_type": "markdown",
   "metadata": {},
   "source": [
    "Проанализируем пропуски."
   ]
  },
  {
   "cell_type": "code",
   "execution_count": 9,
   "metadata": {
    "tags": []
   },
   "outputs": [
    {
     "name": "stdout",
     "output_type": "stream",
     "text": [
      "Размер датасета с пропусками: 354369\n",
      "Размер датасета при устранении пропусков: 245814\n",
      "Доля пропусков составляет: 30.63\n"
     ]
    }
   ],
   "source": [
    "print(\"Размер датасета с пропусками:\", data.shape[0])\n",
    "print(\"Размер датасета при устранении пропусков:\", data.dropna().shape[0])\n",
    "print(\"Доля пропусков составляет:\", round(100-data.dropna().shape[0]/data.shape[0]*100, 2))"
   ]
  },
  {
   "cell_type": "markdown",
   "metadata": {},
   "source": [
    "Пропуски составляют порядка 30% от генеральной выборки, удаление пропусков в данном случае не самое эффективное решение проблемы."
   ]
  },
  {
   "cell_type": "code",
   "execution_count": 10,
   "metadata": {
    "tags": []
   },
   "outputs": [
    {
     "data": {
      "text/plain": [
       "Price               0\n",
       "VehicleType         0\n",
       "RegistrationYear    0\n",
       "Gearbox             0\n",
       "Power               0\n",
       "Model               0\n",
       "Kilometer           0\n",
       "FuelType            0\n",
       "Brand               0\n",
       "Repaired            0\n",
       "dtype: int64"
      ]
     },
     "execution_count": 10,
     "metadata": {},
     "output_type": "execute_result"
    }
   ],
   "source": [
    "for col in [\"VehicleType\", \"Gearbox\", \"FuelType\"]: \n",
    "    # для данных признаков логичнее использовать моду \n",
    "    # для заполения пропусков \n",
    "    data_filtered[col].fillna(data_filtered[col].mode()[0], inplace=True)\n",
    "\n",
    "# для данных признаков логичнее использовать новую категорию \"unknown\"\n",
    "data_filtered[\"Repaired\"] = data_filtered[\"Repaired\"].fillna(\"unknown\")\n",
    "data_filtered[\"Model\"] = data_filtered[\"Model\"].fillna(\"unknown\")\n",
    "\n",
    "data_filtered.isna().sum()"
   ]
  },
  {
   "cell_type": "markdown",
   "metadata": {},
   "source": [
    "Пропуски устранены, изучим распределение данных."
   ]
  },
  {
   "cell_type": "code",
   "execution_count": 11,
   "metadata": {
    "tags": []
   },
   "outputs": [
    {
     "data": {
      "image/png": "[encoded data removed]",
      "text/plain": [
       "<Figure size 2000x1000 with 4 Axes>"
      ]
     },
     "metadata": {},
     "output_type": "display_data"
    }
   ],
   "source": [
    "data_box = data_filtered.select_dtypes(include=int)\n",
    "\n",
    "red_circle = dict(markerfacecolor=\"red\", marker=\"o\", markeredgecolor=\"white\")\n",
    "fig, axs = plt.subplots(1, len(data_box.columns), figsize=(20, 10))\n",
    "\n",
    "for i, ax in enumerate(axs):\n",
    "    ax.boxplot(data_box.iloc[:, i], flierprops=red_circle)\n",
    "    ax.set_title(data_box.columns[i], fontsize=20, fontweight=\"bold\")\n",
    "    ax.tick_params(axis=\"y\", labelsize=14)\n",
    "    ax.set_ylim(data_box.iloc[:, i].mean() - 3 * data_box.iloc[:, i].std(), \n",
    "                data_box.iloc[:, i].mean() + 3 * data_box.iloc[:, i].std())\n",
    "\n",
    "plt.tight_layout()\n",
    "\n",
    "del data_box"
   ]
  },
  {
   "cell_type": "markdown",
   "metadata": {},
   "source": [
    "Во всех признаках отмечаются выбросы, однако, к обработке подлежат не все признаки, кроме пробега, который может принимать разное значение."
   ]
  },
  {
   "cell_type": "markdown",
   "metadata": {
    "tags": []
   },
   "source": [
    "За какой промежуток времени представлены анкеты?"
   ]
  },
  {
   "cell_type": "code",
   "execution_count": 12,
   "metadata": {
    "tags": []
   },
   "outputs": [
    {
     "data": {
      "text/plain": [
       "array(['2016-03-05 14:06:22', '2016-03-05 14:06:23',\n",
       "       '2016-03-05 14:06:24', ..., '2016-04-07 14:36:55',\n",
       "       '2016-04-07 14:36:56', '2016-04-07 14:36:58'], dtype=object)"
      ]
     },
     "execution_count": 12,
     "metadata": {},
     "output_type": "execute_result"
    }
   ],
   "source": [
    "np.sort(data[\"DateCrawled\"])"
   ]
  },
  {
   "cell_type": "markdown",
   "metadata": {},
   "source": [
    "Все анкеты скачаны из базы в 2016 году, значит год регистрации авто выше 2016 это аномалия, как и самая ранняя регистрация, состаявшаяся в 1000 году."
   ]
  },
  {
   "cell_type": "markdown",
   "metadata": {
    "tags": []
   },
   "source": [
    "- Цена авто не может равнятся 0;\n",
    "- Мощность авто ограничим 2 000 л.с;\n",
    "- Год регистрации авто ограничим в промежутке от 1950 до 2016 года."
   ]
  },
  {
   "cell_type": "code",
   "execution_count": 13,
   "metadata": {
    "tags": []
   },
   "outputs": [],
   "source": [
    "data_filtered = data_filtered[(data_filtered[\"RegistrationYear\"] > 1949) & (data_filtered[\"RegistrationYear\"] < 2017)]\n",
    "data_filtered = data_filtered[(data_filtered[\"Price\"] > 0) & (data_filtered[\"Power\"] < 2000)]"
   ]
  },
  {
   "cell_type": "code",
   "execution_count": 14,
   "metadata": {
    "tags": []
   },
   "outputs": [
    {
     "name": "stdout",
     "output_type": "stream",
     "text": [
      "Размер генеральной выборки с пропусками и анамальными значениями: 354369\n",
      "Размер выборки после устранения пропусков, аномалий: 287229\n",
      "Доля устраненных пропусков и аномалий составил: 14.42\n"
     ]
    }
   ],
   "source": [
    "print(\"Размер генеральной выборки с пропусками и анамальными значениями:\", data.shape[0])\n",
    "print(\"Размер выборки после устранения пропусков, аномалий:\",data_filtered.shape[0])\n",
    "print(\"Доля устраненных пропусков и аномалий составил:\", round(100-data.dropna().shape[0]/data_filtered.shape[0]*100, 2))"
   ]
  },
  {
   "cell_type": "code",
   "execution_count": 15,
   "metadata": {
    "tags": []
   },
   "outputs": [],
   "source": [
    "del data"
   ]
  },
  {
   "cell_type": "markdown",
   "metadata": {},
   "source": [
    "Возможные потери сократили вдовое."
   ]
  },
  {
   "cell_type": "markdown",
   "metadata": {
    "tags": []
   },
   "source": [
    "**Выводы**\n",
    "\n",
    "По итогам предобработки данных:\n",
    "- устранили неинформативные признаки;\n",
    "- устранили пропуски и дубликаты;\n",
    "- устранили аномалии."
   ]
  },
  {
   "cell_type": "markdown",
   "metadata": {
    "tags": []
   },
   "source": [
    "[В начало](#intro)"
   ]
  },
  {
   "cell_type": "markdown",
   "metadata": {
    "tags": []
   },
   "source": [
    "## Бэггинг. RandomForestRegressor"
   ]
  },
  {
   "cell_type": "markdown",
   "metadata": {
    "tags": []
   },
   "source": [
    "Перед обучением:\n",
    "- Скалируем количественные признаки;\n",
    "- Приведем категориальные признаки к числовому представлению."
   ]
  },
  {
   "cell_type": "code",
   "execution_count": 16,
   "metadata": {
    "tags": []
   },
   "outputs": [
    {
     "data": {
      "text/html": [
       "<div>\n",
       "<style scoped>\n",
       "    .dataframe tbody tr th:only-of-type {\n",
       "        vertical-align: middle;\n",
       "    }\n",
       "\n",
       "    .dataframe tbody tr th {\n",
       "        vertical-align: top;\n",
       "    }\n",
       "\n",
       "    .dataframe thead th {\n",
       "        text-align: right;\n",
       "    }\n",
       "</style>\n",
       "<table border=\"1\" class=\"dataframe\">\n",
       "  <thead>\n",
       "    <tr style=\"text-align: right;\">\n",
       "      <th></th>\n",
       "      <th>VehicleType</th>\n",
       "      <th>RegistrationYear</th>\n",
       "      <th>Gearbox</th>\n",
       "      <th>Power</th>\n",
       "      <th>Model</th>\n",
       "      <th>Kilometer</th>\n",
       "      <th>FuelType</th>\n",
       "      <th>Brand</th>\n",
       "      <th>Repaired</th>\n",
       "    </tr>\n",
       "  </thead>\n",
       "  <tbody>\n",
       "    <tr>\n",
       "      <th>0</th>\n",
       "      <td>-0.110785</td>\n",
       "      <td>-1.392065</td>\n",
       "      <td>0.493683</td>\n",
       "      <td>-1.536306</td>\n",
       "      <td>0.009424</td>\n",
       "      <td>0.597802</td>\n",
       "      <td>0.650906</td>\n",
       "      <td>1.314413</td>\n",
       "      <td>0.886724</td>\n",
       "    </tr>\n",
       "    <tr>\n",
       "      <th>1</th>\n",
       "      <td>-1.082554</td>\n",
       "      <td>1.206886</td>\n",
       "      <td>0.493683</td>\n",
       "      <td>1.121687</td>\n",
       "      <td>1.525566</td>\n",
       "      <td>-0.056690</td>\n",
       "      <td>-1.557960</td>\n",
       "      <td>-1.486520</td>\n",
       "      <td>2.371882</td>\n",
       "    </tr>\n",
       "  </tbody>\n",
       "</table>\n",
       "</div>"
      ],
      "text/plain": [
       "   VehicleType  RegistrationYear   Gearbox     Power     Model  Kilometer  \\\n",
       "0    -0.110785         -1.392065  0.493683 -1.536306  0.009424   0.597802   \n",
       "1    -1.082554          1.206886  0.493683  1.121687  1.525566  -0.056690   \n",
       "\n",
       "   FuelType     Brand  Repaired  \n",
       "0  0.650906  1.314413  0.886724  \n",
       "1 -1.557960 -1.486520  2.371882  "
      ]
     },
     "execution_count": 16,
     "metadata": {},
     "output_type": "execute_result"
    }
   ],
   "source": [
    "X = data_filtered.drop(\"Price\", axis=1)\n",
    "y = data_filtered.Price\n",
    "\n",
    "encoder = OrdinalEncoder()\n",
    "scaler = StandardScaler()\n",
    "\n",
    "X[X.select_dtypes(include=\"object\").columns] = encoder.fit_transform(X[X.select_dtypes(include=\"object\").columns])\n",
    "X[X.columns] = scaler.fit_transform(X[X.columns])\n",
    "\n",
    "X.head(2)"
   ]
  },
  {
   "cell_type": "markdown",
   "metadata": {},
   "source": [
    "Разобъем данные на тренировочную и тестовую."
   ]
  },
  {
   "cell_type": "code",
   "execution_count": 17,
   "metadata": {
    "tags": []
   },
   "outputs": [
    {
     "name": "stdout",
     "output_type": "stream",
     "text": [
      "(215421, 9)\n",
      "(215421,)\n",
      "(71808, 9)\n",
      "(71808,)\n"
     ]
    }
   ],
   "source": [
    "state = 12345\n",
    "\n",
    "X_train, X_test, y_train, y_test = train_test_split(X, y, test_size=0.25, random_state=state)\n",
    "\n",
    "print(X_train.shape)\n",
    "print(y_train.shape)\n",
    "print(X_test.shape)\n",
    "print(y_test.shape)"
   ]
  },
  {
   "cell_type": "code",
   "execution_count": 18,
   "metadata": {
    "tags": []
   },
   "outputs": [],
   "source": [
    "del X, y"
   ]
  },
  {
   "cell_type": "markdown",
   "metadata": {},
   "source": [
    "Обучим модель бэггинга **RandomForestRegressor**, используем два гипераметра *max_depth* и *n_estimators*, подберем для этого разные значения."
   ]
  },
  {
   "cell_type": "code",
   "execution_count": 19,
   "metadata": {
    "tags": []
   },
   "outputs": [
    {
     "name": "stdout",
     "output_type": "stream",
     "text": [
      "rmse_train:2020.4427358912617\n",
      "CPU times: user 13.4 s, sys: 521 ms, total: 13.9 s\n",
      "Wall time: 2min 25s\n"
     ]
    }
   ],
   "source": [
    "%%time  \n",
    "# подсчитаем время подбора наилучшей комбинации гиперпараметров\n",
    "\n",
    "RFR = RandomForestRegressor(random_state=state)\n",
    "\n",
    "params = {\"max_depth\": np.arange(1, 10),\n",
    "          \"n_estimators\": [10, 30, 50]\n",
    "         }\n",
    "\n",
    "RFR = GridSearchCV(estimator=RFR, \n",
    "                   param_grid=params,\n",
    "                   scoring=\"neg_root_mean_squared_error\", # будем искать лучшее значение по RMSE\n",
    "                   n_jobs = -1) \n",
    "\n",
    "RFR.fit(X_train, y_train)\n",
    "\n",
    "print(f\"rmse_train:{(RFR.best_score_*-1)}\") # посчитаем RMSE на тренировочном датасете"
   ]
  },
  {
   "cell_type": "markdown",
   "metadata": {},
   "source": [
    "Наша целевая метрика RMSE, она должна быть ниже 2500, модель случайного леса с задачей справилась на тренировочном датасете."
   ]
  },
  {
   "cell_type": "code",
   "execution_count": 20,
   "metadata": {
    "tags": []
   },
   "outputs": [
    {
     "name": "stdout",
     "output_type": "stream",
     "text": [
      "Лучшие параметры:\n"
     ]
    },
    {
     "data": {
      "text/plain": [
       "{'bootstrap': True,\n",
       " 'ccp_alpha': 0.0,\n",
       " 'criterion': 'squared_error',\n",
       " 'max_depth': 9,\n",
       " 'max_features': 1.0,\n",
       " 'max_leaf_nodes': None,\n",
       " 'max_samples': None,\n",
       " 'min_impurity_decrease': 0.0,\n",
       " 'min_samples_leaf': 1,\n",
       " 'min_samples_split': 2,\n",
       " 'min_weight_fraction_leaf': 0.0,\n",
       " 'n_estimators': 50,\n",
       " 'n_jobs': None,\n",
       " 'oob_score': False,\n",
       " 'random_state': 12345,\n",
       " 'verbose': 0,\n",
       " 'warm_start': False}"
      ]
     },
     "execution_count": 20,
     "metadata": {},
     "output_type": "execute_result"
    }
   ],
   "source": [
    "print(\"Лучшие параметры:\")\n",
    "RFR.best_estimator_.get_params()"
   ]
  },
  {
   "cell_type": "markdown",
   "metadata": {},
   "source": [
    "Инциализруем модель с лучшей комбинацией значений гиперпараметров по результатам подбора."
   ]
  },
  {
   "cell_type": "code",
   "execution_count": 21,
   "metadata": {
    "tags": []
   },
   "outputs": [],
   "source": [
    "RFR = RandomForestRegressor(**RFR.best_estimator_.get_params())"
   ]
  },
  {
   "cell_type": "markdown",
   "metadata": {
    "tags": []
   },
   "source": [
    "Обучим модель и посмотрим на время обучения."
   ]
  },
  {
   "cell_type": "code",
   "execution_count": 22,
   "metadata": {
    "tags": []
   },
   "outputs": [
    {
     "name": "stdout",
     "output_type": "stream",
     "text": [
      "Время обучения модели:\n",
      "CPU times: user 12.8 s, sys: 61 ms, total: 12.9 s\n",
      "Wall time: 12.9 s\n"
     ]
    }
   ],
   "source": [
    "%%time\n",
    "RFR.fit(X_train, y_train)\n",
    "print(\"Время обучения модели:\")"
   ]
  },
  {
   "cell_type": "markdown",
   "metadata": {},
   "source": [
    "На первый взгляд обучилась модель быстро, однако, пока сравнивать несчем. Идем дальше."
   ]
  },
  {
   "cell_type": "code",
   "execution_count": 23,
   "metadata": {
    "tags": []
   },
   "outputs": [
    {
     "name": "stdout",
     "output_type": "stream",
     "text": [
      "Время предсказания модели:\n",
      "CPU times: user 273 ms, sys: 6.33 ms, total: 279 ms\n",
      "Wall time: 278 ms\n"
     ]
    }
   ],
   "source": [
    "%%time\n",
    "y_pred = RFR.predict(X_test)\n",
    "print(\"Время предсказания модели:\")"
   ]
  },
  {
   "cell_type": "markdown",
   "metadata": {},
   "source": [
    "Время предсказания модели достаточно короткое."
   ]
  },
  {
   "cell_type": "code",
   "execution_count": 24,
   "metadata": {
    "tags": []
   },
   "outputs": [
    {
     "name": "stdout",
     "output_type": "stream",
     "text": [
      "Качество предсказания модели:\n",
      "r2_train: 0.8154612862128906\n",
      "r2_test: 0.804516017905271\n",
      "rmse_test: 2029.6462164749266\n"
     ]
    }
   ],
   "source": [
    "print(\"Качество предсказания модели:\")\n",
    "print(f\"r2_train: {RFR.score(X_train, y_train)}\")\n",
    "print(f\"r2_test: {RFR.score(X_test, y_test)}\")\n",
    "print(f\"rmse_test: {mean_squared_error(y_pred, y_test, squared=False)}\")"
   ]
  },
  {
   "cell_type": "markdown",
   "metadata": {},
   "source": [
    "Модель практически не переобучилась."
   ]
  },
  {
   "cell_type": "markdown",
   "metadata": {
    "tags": []
   },
   "source": [
    "[В начало](#intro)"
   ]
  },
  {
   "cell_type": "markdown",
   "metadata": {
    "tags": []
   },
   "source": [
    "## Градиентный бустинг"
   ]
  },
  {
   "cell_type": "markdown",
   "metadata": {},
   "source": [
    "Прежде чем использовать модели бустинга, попробуем создать свою модель градиентного бустинга."
   ]
  },
  {
   "cell_type": "markdown",
   "metadata": {
    "tags": []
   },
   "source": [
    "### GradientBoostingHand - ручная модель"
   ]
  },
  {
   "cell_type": "code",
   "execution_count": 25,
   "metadata": {
    "tags": []
   },
   "outputs": [],
   "source": [
    "class GradientBoostingHand:\n",
    "    def __init__(self, learning_rate=0.5, n_estimators=100, max_depth = 2, random_state=12345): # указываем дефолтные значения гиперпараметров\n",
    "        self.learning_rate = learning_rate\n",
    "        self.n_estimators = n_estimators\n",
    "        self.random_state = random_state\n",
    "        self.max_depth = max_depth\n",
    "    \n",
    "    def mae_gradient(self, y_true, y_pred): # функция потерь MAE\n",
    "        return y_true - y_pred              # градиент функции\n",
    "    \n",
    "    \n",
    "    def fit(self, X, y):\n",
    "        self.X = X\n",
    "        self.y = y\n",
    "        \n",
    "        self.y_base = np.mean(self.y) * np.ones(self.X.shape[0]) # инициализируем базовую модель\n",
    "        self.y_pred = self.y_base \n",
    "        \n",
    "        self.trees = [] # создаем список для наших деревьев\n",
    "\n",
    "        for i in range(self.n_estimators):  # градиентным спуском обучаем деревья\n",
    "            gradient = self.mae_gradient(y, self.y_pred) # находим градиент\n",
    "            DTR = DecisionTreeRegressor(random_state=self.random_state, max_depth=self.max_depth) # инциализируем модель\n",
    "            DTR.fit(X, gradient) # обучаем на градиенте\n",
    "            self.trees.append(DTR) # складываем в наш пустой список дерево\n",
    "            self.y_pred += self.learning_rate * DTR.predict(X) # обновим наши предсказания\n",
    "    \n",
    "    def predict(self, X): # делаем предсказания \n",
    "        pred = np.ones(X.shape[0]) * np.mean(self.y)\n",
    "        \n",
    "        for tree in self.trees:\n",
    "            pred += self.learning_rate * tree.predict(X)\n",
    "        \n",
    "        return pred"
   ]
  },
  {
   "cell_type": "code",
   "execution_count": 26,
   "metadata": {
    "tags": []
   },
   "outputs": [],
   "source": [
    "GBH = GradientBoostingHand()"
   ]
  },
  {
   "cell_type": "markdown",
   "metadata": {},
   "source": [
    "Обучим модель, посмотрим на время обучения."
   ]
  },
  {
   "cell_type": "code",
   "execution_count": 27,
   "metadata": {
    "tags": []
   },
   "outputs": [
    {
     "name": "stdout",
     "output_type": "stream",
     "text": [
      "Время обучения модели:\n",
      "CPU times: user 10.9 s, sys: 464 ms, total: 11.4 s\n",
      "Wall time: 11.4 s\n"
     ]
    }
   ],
   "source": [
    "%%time\n",
    "GBH.fit(X_train, y_train)\n",
    "print(\"Время обучения модели:\")"
   ]
  },
  {
   "cell_type": "markdown",
   "metadata": {},
   "source": [
    "Наша модель обучилась чуть быстрее, чем модель RandomForestRegressor."
   ]
  },
  {
   "cell_type": "code",
   "execution_count": 28,
   "metadata": {
    "tags": []
   },
   "outputs": [
    {
     "name": "stdout",
     "output_type": "stream",
     "text": [
      "Время предсказания модели:\n",
      "CPU times: user 206 ms, sys: 73.7 ms, total: 279 ms\n",
      "Wall time: 278 ms\n"
     ]
    }
   ],
   "source": [
    "%%time\n",
    "y_pred = GBH.predict(X_test)\n",
    "print(\"Время предсказания модели:\")"
   ]
  },
  {
   "cell_type": "markdown",
   "metadata": {},
   "source": [
    "Предсказания также чуть быстрее чем на RandomForestRegressor"
   ]
  },
  {
   "cell_type": "code",
   "execution_count": 29,
   "metadata": {
    "tags": []
   },
   "outputs": [
    {
     "name": "stdout",
     "output_type": "stream",
     "text": [
      "Качество предсказания модели:\n",
      "r2_train: 0.786846527441476\n",
      "r2_test: 0.7833836754496912\n",
      "rmse_test: 1934.4502451356245\n"
     ]
    }
   ],
   "source": [
    "print(\"Качество предсказания модели:\")\n",
    "print(f\"r2_train: {r2_score(GBH.predict(X_train), y_train)}\")\n",
    "print(f\"r2_test: {r2_score(y_pred, y_test)}\")\n",
    "print(f\"rmse_test: {mean_squared_error(y_pred, y_test, squared=False)}\")"
   ]
  },
  {
   "cell_type": "markdown",
   "metadata": {},
   "source": [
    "Наша модель практически не переобучилась, метрики при этом ниже модели бэггинга. "
   ]
  },
  {
   "cell_type": "markdown",
   "metadata": {
    "tags": []
   },
   "source": [
    "[В начало](#intro)"
   ]
  },
  {
   "cell_type": "markdown",
   "metadata": {
    "tags": []
   },
   "source": [
    "### CatBoostRegressor"
   ]
  },
  {
   "cell_type": "markdown",
   "metadata": {},
   "source": [
    "Для производительности вычислений используем встроенную структуру CatBoost - Pool."
   ]
  },
  {
   "cell_type": "code",
   "execution_count": 30,
   "metadata": {
    "tags": []
   },
   "outputs": [],
   "source": [
    "train_data = Pool(X_train, y_train)\n",
    "test_data = Pool(X_test, y_test)"
   ]
  },
  {
   "cell_type": "code",
   "execution_count": 31,
   "metadata": {
    "tags": []
   },
   "outputs": [
    {
     "name": "stdout",
     "output_type": "stream",
     "text": [
      "rmse_train: 1718.4327641947334\n",
      "CPU times: user 4.62 s, sys: 756 ms, total: 5.38 s\n",
      "Wall time: 23.1 s\n"
     ]
    }
   ],
   "source": [
    "%%time \n",
    "params = {                           # создадим сетку гиперпараметров и их значений для поиска\n",
    "    \"iterations\": [20, 40, 60, 80],  # используем количество деревьев \n",
    "    \"depth\": [4, 6, 8]               # и глубину\n",
    "}\n",
    "\n",
    "CBR = CatBoostRegressor(loss_function=\"RMSE\",  # функция потерь RMSE\n",
    "                        logging_level=\"Silent\",\n",
    "                        random_state=state)\n",
    "\n",
    "CBR = GridSearchCV(estimator=CBR, \n",
    "                   param_grid=params,\n",
    "                   n_jobs=-1, \n",
    "                   scoring=\"neg_root_mean_squared_error\") # прогон по RMSE, сетка вернет модель с гиперпараметрами, которые дали наименьший RMSE\n",
    "\n",
    "CBR.fit(X_train,y_train)\n",
    "\n",
    "print(f\"rmse_train: {CBR.best_score_*-1}\") # посчитаем RMSE на обучающих данных "
   ]
  },
  {
   "cell_type": "markdown",
   "metadata": {},
   "source": [
    "Модель показывает очень хорошее значение метрики RMSE."
   ]
  },
  {
   "cell_type": "code",
   "execution_count": 32,
   "metadata": {
    "tags": []
   },
   "outputs": [
    {
     "name": "stdout",
     "output_type": "stream",
     "text": [
      "Лучшие параметры:\n"
     ]
    },
    {
     "data": {
      "text/plain": [
       "{'iterations': 80,\n",
       " 'depth': 8,\n",
       " 'loss_function': 'RMSE',\n",
       " 'logging_level': 'Silent',\n",
       " 'random_state': 12345}"
      ]
     },
     "execution_count": 32,
     "metadata": {},
     "output_type": "execute_result"
    }
   ],
   "source": [
    "print(\"Лучшие параметры:\")\n",
    "CBR.best_estimator_.get_params()"
   ]
  },
  {
   "cell_type": "markdown",
   "metadata": {},
   "source": [
    "Наши лучшие значения гиперпараметров. Обучим ими нашу новую модель."
   ]
  },
  {
   "cell_type": "code",
   "execution_count": 33,
   "metadata": {},
   "outputs": [],
   "source": [
    "CBR = CatBoostRegressor(**CBR.best_estimator_.get_params())"
   ]
  },
  {
   "cell_type": "code",
   "execution_count": 34,
   "metadata": {
    "tags": []
   },
   "outputs": [
    {
     "data": {
      "application/vnd.jupyter.widget-view+json": {
       "model_id": "3a88f3a864d1498d9ba8e7d7be4c1bde",
       "version_major": 2,
       "version_minor": 0
      },
      "text/plain": [
       "MetricVisualizer(layout=Layout(align_self='stretch', height='500px'))"
      ]
     },
     "metadata": {},
     "output_type": "display_data"
    },
    {
     "name": "stdout",
     "output_type": "stream",
     "text": [
      "Время обучения модели:\n",
      "CPU times: user 4.65 s, sys: 603 ms, total: 5.26 s\n",
      "Wall time: 1.05 s\n"
     ]
    }
   ],
   "source": [
    "%%time\n",
    "CBR.fit(train_data, plot=True)\n",
    "print(\"Время обучения модели:\")"
   ]
  },
  {
   "cell_type": "markdown",
   "metadata": {},
   "source": [
    "Модель обучилась довольно быстро, за первые 6 итераций модель значительно снизила значение RMSE. "
   ]
  },
  {
   "cell_type": "code",
   "execution_count": 35,
   "metadata": {
    "tags": []
   },
   "outputs": [
    {
     "name": "stdout",
     "output_type": "stream",
     "text": [
      "Время предсказания модели:\n",
      "CPU times: user 31.9 ms, sys: 3.38 ms, total: 35.3 ms\n",
      "Wall time: 10.6 ms\n"
     ]
    }
   ],
   "source": [
    "%%time\n",
    "y_pred = CBR.predict(X_test)\n",
    "print(\"Время предсказания модели:\")"
   ]
  },
  {
   "cell_type": "markdown",
   "metadata": {},
   "source": [
    "Скорость предсказания на высоте."
   ]
  },
  {
   "cell_type": "code",
   "execution_count": 36,
   "metadata": {
    "tags": []
   },
   "outputs": [
    {
     "name": "stdout",
     "output_type": "stream",
     "text": [
      "Качество предсказания модели:\n",
      "r2_train: 0.8739504681985321\n",
      "r2_test: 0.8608144036840369\n",
      "rmse_test: 1712.6235125063245\n"
     ]
    }
   ],
   "source": [
    "print(\"Качество предсказания модели:\")\n",
    "print(f\"r2_train: {CBR.score(train_data)}\")\n",
    "print(f\"r2_test: {CBR.score(test_data)}\")\n",
    "print(f\"rmse_test: {mean_squared_error(y_pred, y_test, squared=False)}\")"
   ]
  },
  {
   "cell_type": "markdown",
   "metadata": {},
   "source": [
    "Модель практически не переобучилась, метрика хорошая. "
   ]
  },
  {
   "cell_type": "markdown",
   "metadata": {
    "tags": []
   },
   "source": [
    "[В начало](#intro)"
   ]
  },
  {
   "cell_type": "markdown",
   "metadata": {
    "tags": []
   },
   "source": [
    "### LGBMRegressor"
   ]
  },
  {
   "cell_type": "markdown",
   "metadata": {},
   "source": [
    "Обучим еще одну модель градиентного бустинга - **LGBMRegressor.**"
   ]
  },
  {
   "cell_type": "code",
   "execution_count": 37,
   "metadata": {
    "tags": []
   },
   "outputs": [
    {
     "name": "stdout",
     "output_type": "stream",
     "text": [
      "rmse_train:1697.602596478558\n",
      "CPU times: user 3.3 s, sys: 450 ms, total: 3.75 s\n",
      "Wall time: 45.7 s\n"
     ]
    }
   ],
   "source": [
    "%%time\n",
    "\n",
    "params = {                            #  создадим сетку\n",
    "    \"learning_rate\": [0.1, 0.2, 0.3], #  используем шаг обучения\n",
    "    \"num_leaves\": [20, 30, 40]        #  листья в деревьях\n",
    "}\n",
    "\n",
    "LGB = LGBMRegressor(verbose=-100, silent=True, random_state=state)\n",
    "\n",
    "LGB = GridSearchCV(estimator=LGB, \n",
    "                   param_grid=params,\n",
    "                   n_jobs=-1, \n",
    "                   scoring=\"neg_root_mean_squared_error\")\n",
    "\n",
    "LGB.fit(X_train,y_train)\n",
    "\n",
    "print(f\"rmse_train:{LGB.best_score_*-1}\")"
   ]
  },
  {
   "cell_type": "markdown",
   "metadata": {},
   "source": [
    "На обучающих данных модель показывают самые лучшее значение целевой метрики."
   ]
  },
  {
   "cell_type": "code",
   "execution_count": 38,
   "metadata": {
    "tags": []
   },
   "outputs": [
    {
     "name": "stdout",
     "output_type": "stream",
     "text": [
      "Лучшие параметры:\n"
     ]
    },
    {
     "data": {
      "text/plain": [
       "{'boosting_type': 'gbdt',\n",
       " 'class_weight': None,\n",
       " 'colsample_bytree': 1.0,\n",
       " 'importance_type': 'split',\n",
       " 'learning_rate': 0.3,\n",
       " 'max_depth': -1,\n",
       " 'min_child_samples': 20,\n",
       " 'min_child_weight': 0.001,\n",
       " 'min_split_gain': 0.0,\n",
       " 'n_estimators': 100,\n",
       " 'n_jobs': None,\n",
       " 'num_leaves': 40,\n",
       " 'objective': None,\n",
       " 'random_state': 12345,\n",
       " 'reg_alpha': 0.0,\n",
       " 'reg_lambda': 0.0,\n",
       " 'subsample': 1.0,\n",
       " 'subsample_for_bin': 200000,\n",
       " 'subsample_freq': 0,\n",
       " 'verbose': -100,\n",
       " 'silent': True}"
      ]
     },
     "execution_count": 38,
     "metadata": {},
     "output_type": "execute_result"
    }
   ],
   "source": [
    "print(\"Лучшие параметры:\")\n",
    "LGB.best_estimator_.get_params()"
   ]
  },
  {
   "cell_type": "markdown",
   "metadata": {},
   "source": [
    "Инциализируем новую модель с лучшими параметрами по итогам поиска."
   ]
  },
  {
   "cell_type": "code",
   "execution_count": 39,
   "metadata": {},
   "outputs": [],
   "source": [
    "LGB = LGBMRegressor(**LGB.best_estimator_.get_params())"
   ]
  },
  {
   "cell_type": "code",
   "execution_count": 40,
   "metadata": {
    "tags": []
   },
   "outputs": [
    {
     "name": "stdout",
     "output_type": "stream",
     "text": [
      "Время обучения модели:\n",
      "CPU times: user 3.36 s, sys: 508 ms, total: 3.86 s\n",
      "Wall time: 526 ms\n"
     ]
    }
   ],
   "source": [
    "%%time\n",
    "LGB.fit(X_train,y_train)\n",
    "print(\"Время обучения модели:\")"
   ]
  },
  {
   "cell_type": "code",
   "execution_count": 41,
   "metadata": {
    "tags": []
   },
   "outputs": [
    {
     "name": "stdout",
     "output_type": "stream",
     "text": [
      "Время предсказания модели:\n",
      "CPU times: user 829 ms, sys: 42.6 ms, total: 872 ms\n",
      "Wall time: 119 ms\n"
     ]
    }
   ],
   "source": [
    "%%time\n",
    "y_pred = LGB.predict(X_test)\n",
    "print(\"Время предсказания модели:\")"
   ]
  },
  {
   "cell_type": "code",
   "execution_count": 42,
   "metadata": {
    "tags": []
   },
   "outputs": [
    {
     "name": "stdout",
     "output_type": "stream",
     "text": [
      "Качество предсказания модели:\n",
      "r2_train: 0.8795647319828529\n",
      "r2_test: 0.8644246466544125\n",
      "rmse_test: 1690.2662793029165\n"
     ]
    }
   ],
   "source": [
    "print(\"Качество предсказания модели:\")\n",
    "print(f\"r2_train: {LGB.score(X_train,y_train)}\")\n",
    "print(f\"r2_test: {LGB.score(X_test,y_test)}\")\n",
    "print(f\"rmse_test: {mean_squared_error(y_pred, y_test, squared=False)}\")"
   ]
  },
  {
   "cell_type": "markdown",
   "metadata": {
    "tags": []
   },
   "source": [
    "Качество метриики самое лучшее, однако время обучения и предсказания по сравнению с CatBoost."
   ]
  },
  {
   "cell_type": "markdown",
   "metadata": {
    "tags": []
   },
   "source": [
    "[В начало](#intro)"
   ]
  },
  {
   "cell_type": "markdown",
   "metadata": {
    "tags": []
   },
   "source": [
    "## Анализ моделей"
   ]
  },
  {
   "cell_type": "code",
   "execution_count": 43,
   "metadata": {
    "tags": []
   },
   "outputs": [
    {
     "data": {
      "text/html": [
       "<div>\n",
       "<style scoped>\n",
       "    .dataframe tbody tr th:only-of-type {\n",
       "        vertical-align: middle;\n",
       "    }\n",
       "\n",
       "    .dataframe tbody tr th {\n",
       "        vertical-align: top;\n",
       "    }\n",
       "\n",
       "    .dataframe thead th {\n",
       "        text-align: right;\n",
       "    }\n",
       "</style>\n",
       "<table border=\"1\" class=\"dataframe\">\n",
       "  <thead>\n",
       "    <tr style=\"text-align: right;\">\n",
       "      <th></th>\n",
       "      <th>r2_train</th>\n",
       "      <th>r2_test</th>\n",
       "      <th>rmse_test</th>\n",
       "      <th>learn_time</th>\n",
       "      <th>predict_time</th>\n",
       "    </tr>\n",
       "  </thead>\n",
       "  <tbody>\n",
       "    <tr>\n",
       "      <th>RandomForestRegressor</th>\n",
       "      <td>0.815</td>\n",
       "      <td>0.804</td>\n",
       "      <td>2029.64</td>\n",
       "      <td>12.9 s</td>\n",
       "      <td>275 ms</td>\n",
       "    </tr>\n",
       "    <tr>\n",
       "      <th>GradientBoostingHand</th>\n",
       "      <td>0.786</td>\n",
       "      <td>0.783</td>\n",
       "      <td>1934.45</td>\n",
       "      <td>11.3 s</td>\n",
       "      <td>257 ms</td>\n",
       "    </tr>\n",
       "    <tr>\n",
       "      <th>CatBoostRegressor</th>\n",
       "      <td>0.873</td>\n",
       "      <td>0.86</td>\n",
       "      <td>1712.62</td>\n",
       "      <td>1.04 s</td>\n",
       "      <td>11.7 ms</td>\n",
       "    </tr>\n",
       "    <tr>\n",
       "      <th>LGBMRegressor</th>\n",
       "      <td>0.879</td>\n",
       "      <td>0.864</td>\n",
       "      <td>1690.26</td>\n",
       "      <td>618 ms</td>\n",
       "      <td>114 ms</td>\n",
       "    </tr>\n",
       "  </tbody>\n",
       "</table>\n",
       "</div>"
      ],
      "text/plain": [
       "                      r2_train r2_test rmse_test learn_time predict_time\n",
       "RandomForestRegressor    0.815   0.804   2029.64     12.9 s       275 ms\n",
       "GradientBoostingHand     0.786   0.783   1934.45     11.3 s       257 ms\n",
       "CatBoostRegressor        0.873    0.86   1712.62     1.04 s      11.7 ms\n",
       "LGBMRegressor            0.879   0.864   1690.26     618 ms       114 ms"
      ]
     },
     "execution_count": 43,
     "metadata": {},
     "output_type": "execute_result"
    }
   ],
   "source": [
    "col = [\"r2_train\",\"r2_test\", \"rmse_test\", \"learn_time\", \"predict_time\"] \n",
    "\n",
    "result = {\n",
    "    \"RandomForestRegressor\": [ 0.815, 0.804,  2029.64, \"12.9 s\",\"275 ms\"],\n",
    "    \"GradientBoostingHand\": [0.786, 0.783, 1934.45, \"11.3 s\",\"257 ms\"],\n",
    "    \"CatBoostRegressor\": [0.873, 0.860, 1712.62, \"1.04 s\", \"11.7 ms\"],\n",
    "    \"LGBMRegressor\": [0.879, 0.864, 1690.26, \"618 ms\", \"114 ms\"]\n",
    "}\n",
    "\n",
    "pd.DataFrame(result, index=col).T"
   ]
  },
  {
   "cell_type": "markdown",
   "metadata": {},
   "source": [
    "Худшей моделью в нашем анализе является модель бэггинга - RandomForestRegressor. Значение метрики r2 выше, чем у нашей ручной модели GradientBoostingHand, однако значение метрики rmse на тестовой выборке на порядок выше. Также самый длительное обучение и предсказание у модели случайного леса. Но и наша ручная модель далеко не лучшая. Первое место делят между собой модели грфдиентного бустинга CatBoostRegressor и LGBMRegressor. У CatBoostRegressor качество предсказания чуть ниже, чем LGBMRegressor, но скорость предсказания значительно быстрее. \n",
    "\n",
    "Заказчику важны:\n",
    "- качество предсказания;\n",
    "- скорость предсказания;\n",
    "- время обучения.\n",
    "\n",
    "Ответ на вопрос какую модель использовать требует уточнений. Если для заказчика важнее скорость работы модели при относительно высоких показателях качества то, следует выбрать CatBoostRegressor, если же для заказчика важнее качество предсказания модели при относительно хорошей скорости работы модели, то следует выбрать LGBMRegressor."
   ]
  },
  {
   "cell_type": "markdown",
   "metadata": {},
   "source": [
    "Сохраним обученную модель."
   ]
  },
  {
   "cell_type": "code",
   "execution_count": 44,
   "metadata": {
    "tags": []
   },
   "outputs": [],
   "source": [
    "# CBR.save_model(\"catboost_model.json\")\n",
    "# CBR.save_model(\"catboost_model.bin\")"
   ]
  },
  {
   "cell_type": "markdown",
   "metadata": {
    "tags": []
   },
   "source": [
    "[В начало](#intro)"
   ]
  },
  {
   "cell_type": "markdown",
   "metadata": {},
   "source": [
    "## Выводы"
   ]
  },
  {
   "cell_type": "markdown",
   "metadata": {
    "jp-MarkdownHeadingCollapsed": true,
    "tags": []
   },
   "source": [
    "В ходе работы было выполнено:\n",
    "- Преобработка данных;\n",
    "- Исследовательский анализ данных;\n",
    "- Обучена и оценена модель бэггинга для решения задачи;\n",
    "- Разработана и оценена собственная модель градиентного бустинг;\n",
    "- Обучены и оценены классические модели градиентного бустинга;\n",
    "- Предложена модель для решения задачи заказчика."
   ]
  },
  {
   "cell_type": "markdown",
   "metadata": {
    "tags": []
   },
   "source": [
    "[В начало](#intro)"
   ]
  }
 ],
 "metadata": {
  "kernelspec": {
   "display_name": "Python 3 (ipykernel)",
   "language": "python",
   "name": "python3"
  },
  "language_info": {
   "codemirror_mode": {
    "name": "ipython",
    "version": 3
   },
   "file_extension": ".py",
   "mimetype": "text/x-python",
   "name": "python",
   "nbconvert_exporter": "python",
   "pygments_lexer": "ipython3",
   "version": "3.11.5"
  },
  "toc": {
   "base_numbering": 1,
   "nav_menu": {},
   "number_sections": true,
   "sideBar": true,
   "skip_h1_title": true,
   "title_cell": "Содержание",
   "title_sidebar": "Contents",
   "toc_cell": true,
   "toc_position": {},
   "toc_section_display": true,
   "toc_window_display": true
  }
 },
 "nbformat": 4,
 "nbformat_minor": 4
}
